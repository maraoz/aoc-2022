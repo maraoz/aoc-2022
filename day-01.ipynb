{
 "cells": [
  {
   "cell_type": "code",
   "execution_count": 8,
   "id": "f46a9ea0-800d-4666-9e37-e8a49b70ddaf",
   "metadata": {},
   "outputs": [],
   "source": [
    "from pathlib import Path"
   ]
  },
  {
   "cell_type": "code",
   "execution_count": 17,
   "id": "8c333177-11b2-4e37-bb25-a08ecaab7461",
   "metadata": {},
   "outputs": [],
   "source": [
    "path = Path('day-1')\n",
    "!mkdir -p {path}"
   ]
  },
  {
   "cell_type": "code",
   "execution_count": 18,
   "id": "7e65eb96-c68e-4c84-a8a9-0560dbee5fb0",
   "metadata": {},
   "outputs": [
    {
     "data": {
      "text/plain": [
       "56"
      ]
     },
     "execution_count": 18,
     "metadata": {},
     "output_type": "execute_result"
    }
   ],
   "source": [
    "open(path/\"sample.txt\", 'w').write(\"\"\"\n",
    "1000\n",
    "2000\n",
    "3000\n",
    "\n",
    "4000\n",
    "\n",
    "5000\n",
    "6000\n",
    "\n",
    "7000\n",
    "8000\n",
    "9000\n",
    "\n",
    "10000\n",
    "\"\"\")"
   ]
  },
  {
   "cell_type": "code",
   "execution_count": 19,
   "id": "ded8131b-f8e8-4d74-a57f-889b19cd8c90",
   "metadata": {},
   "outputs": [],
   "source": [
    "!wget https://adventofcode.com/2022/day/1/input -o {path/\"input.txt\"}"
   ]
  },
  {
   "cell_type": "code",
   "execution_count": 43,
   "id": "99389a89-8f71-489c-b0a1-9115afc55615",
   "metadata": {},
   "outputs": [],
   "source": [
    "f = open(path/'input.txt')"
   ]
  },
  {
   "cell_type": "code",
   "execution_count": 44,
   "id": "0feb6d66-197e-4794-ace9-fa284053e8c5",
   "metadata": {},
   "outputs": [
    {
     "data": {
      "text/plain": [
       "'--2022-12-'"
      ]
     },
     "execution_count": 44,
     "metadata": {},
     "output_type": "execute_result"
    }
   ],
   "source": [
    "full = f.read()\n",
    "full[:10]"
   ]
  },
  {
   "cell_type": "code",
   "execution_count": 31,
   "id": "95e664c5-8cd0-497b-8cc3-d76e5752af58",
   "metadata": {},
   "outputs": [],
   "source": [
    "import pandas as pd"
   ]
  },
  {
   "cell_type": "code",
   "execution_count": 32,
   "id": "df8a1dff-ecaf-4706-817b-e8d51a1c4faa",
   "metadata": {},
   "outputs": [
    {
     "name": "stdout",
     "output_type": "stream",
     "text": [
      "0 ['1000', '2000', '3000']\n",
      "1 ['4000']\n",
      "2 ['5000', '6000']\n",
      "3 ['7000', '8000', '9000']\n",
      "4 ['10000']\n"
     ]
    },
    {
     "data": {
      "text/plain": [
       "[(0, 1000), (0, 2000), (0, 3000), (1, 4000), (2, 5000)]"
      ]
     },
     "execution_count": 32,
     "metadata": {},
     "output_type": "execute_result"
    }
   ],
   "source": [
    "data = []\n",
    "for i, elf in enumerate(full.split('\\n\\n')):\n",
    "    bag = elf.split()\n",
    "    print(i, bag)\n",
    "    for calories in bag:\n",
    "        data.append((i, int(calories)))\n",
    "data[:5]"
   ]
  },
  {
   "cell_type": "code",
   "execution_count": 36,
   "id": "4bf19b25-80ee-4a55-a7e0-09cb12ae2e54",
   "metadata": {},
   "outputs": [
    {
     "data": {
      "text/html": [
       "<div>\n",
       "<style scoped>\n",
       "    .dataframe tbody tr th:only-of-type {\n",
       "        vertical-align: middle;\n",
       "    }\n",
       "\n",
       "    .dataframe tbody tr th {\n",
       "        vertical-align: top;\n",
       "    }\n",
       "\n",
       "    .dataframe thead th {\n",
       "        text-align: right;\n",
       "    }\n",
       "</style>\n",
       "<table border=\"1\" class=\"dataframe\">\n",
       "  <thead>\n",
       "    <tr style=\"text-align: right;\">\n",
       "      <th></th>\n",
       "      <th>elf</th>\n",
       "      <th>item</th>\n",
       "    </tr>\n",
       "  </thead>\n",
       "  <tbody>\n",
       "    <tr>\n",
       "      <th>0</th>\n",
       "      <td>0</td>\n",
       "      <td>1000</td>\n",
       "    </tr>\n",
       "    <tr>\n",
       "      <th>1</th>\n",
       "      <td>0</td>\n",
       "      <td>2000</td>\n",
       "    </tr>\n",
       "    <tr>\n",
       "      <th>2</th>\n",
       "      <td>0</td>\n",
       "      <td>3000</td>\n",
       "    </tr>\n",
       "    <tr>\n",
       "      <th>3</th>\n",
       "      <td>1</td>\n",
       "      <td>4000</td>\n",
       "    </tr>\n",
       "    <tr>\n",
       "      <th>4</th>\n",
       "      <td>2</td>\n",
       "      <td>5000</td>\n",
       "    </tr>\n",
       "  </tbody>\n",
       "</table>\n",
       "</div>"
      ],
      "text/plain": [
       "   elf  item\n",
       "0    0  1000\n",
       "1    0  2000\n",
       "2    0  3000\n",
       "3    1  4000\n",
       "4    2  5000"
      ]
     },
     "execution_count": 36,
     "metadata": {},
     "output_type": "execute_result"
    }
   ],
   "source": [
    "df = pd.DataFrame(data, columns=['elf', 'item'])\n",
    "df.head()"
   ]
  },
  {
   "cell_type": "code",
   "execution_count": 42,
   "id": "74b6c07e-70ff-45b9-8da7-594a831fddee",
   "metadata": {},
   "outputs": [
    {
     "data": {
      "text/plain": [
       "24000"
      ]
     },
     "execution_count": 42,
     "metadata": {},
     "output_type": "execute_result"
    }
   ],
   "source": [
    "df.groupby(df.elf).item.sum().sort_values(ascending=False).iloc[0]"
   ]
  }
 ],
 "metadata": {
  "kernelspec": {
   "display_name": "Python 3 (ipykernel)",
   "language": "python",
   "name": "python3"
  },
  "language_info": {
   "codemirror_mode": {
    "name": "ipython",
    "version": 3
   },
   "file_extension": ".py",
   "mimetype": "text/x-python",
   "name": "python",
   "nbconvert_exporter": "python",
   "pygments_lexer": "ipython3",
   "version": "3.9.13"
  }
 },
 "nbformat": 4,
 "nbformat_minor": 5
}
