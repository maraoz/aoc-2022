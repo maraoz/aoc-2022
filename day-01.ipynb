{
 "cells": [
  {
   "cell_type": "code",
   "execution_count": 8,
   "id": "f46a9ea0-800d-4666-9e37-e8a49b70ddaf",
   "metadata": {},
   "outputs": [],
   "source": [
    "from pathlib import Path"
   ]
  },
  {
   "cell_type": "code",
   "execution_count": 17,
   "id": "8c333177-11b2-4e37-bb25-a08ecaab7461",
   "metadata": {},
   "outputs": [],
   "source": [
    "path = Path('day-1')\n",
    "!mkdir -p {path}"
   ]
  },
  {
   "cell_type": "code",
   "execution_count": 65,
   "id": "7e65eb96-c68e-4c84-a8a9-0560dbee5fb0",
   "metadata": {},
   "outputs": [
    {
     "data": {
      "text/plain": [
       "56"
      ]
     },
     "execution_count": 65,
     "metadata": {},
     "output_type": "execute_result"
    }
   ],
   "source": [
    "open(path/\"sample.txt\", 'w').write(\"\"\"\n",
    "1000\n",
    "2000\n",
    "3000\n",
    "\n",
    "4000\n",
    "\n",
    "5000\n",
    "6000\n",
    "\n",
    "7000\n",
    "8000\n",
    "9000\n",
    "\n",
    "10000\n",
    "\"\"\")"
   ]
  },
  {
   "cell_type": "code",
   "execution_count": 67,
   "id": "99389a89-8f71-489c-b0a1-9115afc55615",
   "metadata": {},
   "outputs": [],
   "source": [
    "f = open(path/'input.txt')"
   ]
  },
  {
   "cell_type": "code",
   "execution_count": 68,
   "id": "0feb6d66-197e-4794-ace9-fa284053e8c5",
   "metadata": {},
   "outputs": [
    {
     "data": {
      "text/plain": [
       "'3344\\n8938\\n'"
      ]
     },
     "execution_count": 68,
     "metadata": {},
     "output_type": "execute_result"
    }
   ],
   "source": [
    "full = f.read()\n",
    "full[:10]"
   ]
  },
  {
   "cell_type": "code",
   "execution_count": 69,
   "id": "95e664c5-8cd0-497b-8cc3-d76e5752af58",
   "metadata": {},
   "outputs": [],
   "source": [
    "import pandas as pd"
   ]
  },
  {
   "cell_type": "code",
   "execution_count": 71,
   "id": "df8a1dff-ecaf-4706-817b-e8d51a1c4faa",
   "metadata": {},
   "outputs": [
    {
     "data": {
      "text/plain": [
       "[(0, 3344), (0, 8938), (0, 7923), (0, 3979), (0, 2753)]"
      ]
     },
     "execution_count": 71,
     "metadata": {},
     "output_type": "execute_result"
    }
   ],
   "source": [
    "data = []\n",
    "for i, elf in enumerate(full.split('\\n\\n')):\n",
    "    bag = elf.split()\n",
    "    #print(i, bag)\n",
    "    for calories in bag:\n",
    "        data.append((i, int(calories)))\n",
    "data[:5]"
   ]
  },
  {
   "cell_type": "code",
   "execution_count": 72,
   "id": "4bf19b25-80ee-4a55-a7e0-09cb12ae2e54",
   "metadata": {},
   "outputs": [
    {
     "data": {
      "text/html": [
       "<div>\n",
       "<style scoped>\n",
       "    .dataframe tbody tr th:only-of-type {\n",
       "        vertical-align: middle;\n",
       "    }\n",
       "\n",
       "    .dataframe tbody tr th {\n",
       "        vertical-align: top;\n",
       "    }\n",
       "\n",
       "    .dataframe thead th {\n",
       "        text-align: right;\n",
       "    }\n",
       "</style>\n",
       "<table border=\"1\" class=\"dataframe\">\n",
       "  <thead>\n",
       "    <tr style=\"text-align: right;\">\n",
       "      <th></th>\n",
       "      <th>elf</th>\n",
       "      <th>item</th>\n",
       "    </tr>\n",
       "  </thead>\n",
       "  <tbody>\n",
       "    <tr>\n",
       "      <th>0</th>\n",
       "      <td>0</td>\n",
       "      <td>3344</td>\n",
       "    </tr>\n",
       "    <tr>\n",
       "      <th>1</th>\n",
       "      <td>0</td>\n",
       "      <td>8938</td>\n",
       "    </tr>\n",
       "    <tr>\n",
       "      <th>2</th>\n",
       "      <td>0</td>\n",
       "      <td>7923</td>\n",
       "    </tr>\n",
       "    <tr>\n",
       "      <th>3</th>\n",
       "      <td>0</td>\n",
       "      <td>3979</td>\n",
       "    </tr>\n",
       "    <tr>\n",
       "      <th>4</th>\n",
       "      <td>0</td>\n",
       "      <td>2753</td>\n",
       "    </tr>\n",
       "  </tbody>\n",
       "</table>\n",
       "</div>"
      ],
      "text/plain": [
       "   elf  item\n",
       "0    0  3344\n",
       "1    0  8938\n",
       "2    0  7923\n",
       "3    0  3979\n",
       "4    0  2753"
      ]
     },
     "execution_count": 72,
     "metadata": {},
     "output_type": "execute_result"
    }
   ],
   "source": [
    "df = pd.DataFrame(data, columns=['elf', 'item'])\n",
    "df.head()"
   ]
  },
  {
   "cell_type": "code",
   "execution_count": 74,
   "id": "74b6c07e-70ff-45b9-8da7-594a831fddee",
   "metadata": {},
   "outputs": [
    {
     "data": {
      "text/plain": [
       "elf\n",
       "177    69310\n",
       "142    68501\n",
       "112    68293\n",
       "100    65480\n",
       "209    64548\n",
       "       ...  \n",
       "149    10679\n",
       "217     8736\n",
       "243     5379\n",
       "51      1880\n",
       "59      1466\n",
       "Name: item, Length: 249, dtype: int64"
      ]
     },
     "execution_count": 74,
     "metadata": {},
     "output_type": "execute_result"
    }
   ],
   "source": [
    "df.groupby(df.elf).item.sum().sort_values(ascending=False)"
   ]
  },
  {
   "cell_type": "code",
   "execution_count": 75,
   "id": "0f6f99ea-aec9-487a-a9a0-3cea7c663de9",
   "metadata": {},
   "outputs": [
    {
     "data": {
      "text/plain": [
       "206104"
      ]
     },
     "execution_count": 75,
     "metadata": {},
     "output_type": "execute_result"
    }
   ],
   "source": [
    "df.groupby(df.elf).item.sum().nlargest(3).sum()"
   ]
  },
  {
   "cell_type": "code",
   "execution_count": null,
   "id": "8f66cbb8-d790-4495-a7a3-b56379f24635",
   "metadata": {},
   "outputs": [],
   "source": []
  }
 ],
 "metadata": {
  "kernelspec": {
   "display_name": "Python 3 (ipykernel)",
   "language": "python",
   "name": "python3"
  },
  "language_info": {
   "codemirror_mode": {
    "name": "ipython",
    "version": 3
   },
   "file_extension": ".py",
   "mimetype": "text/x-python",
   "name": "python",
   "nbconvert_exporter": "python",
   "pygments_lexer": "ipython3",
   "version": "3.9.13"
  }
 },
 "nbformat": 4,
 "nbformat_minor": 5
}
