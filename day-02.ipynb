{
 "cells": [
  {
   "cell_type": "code",
   "execution_count": 1,
   "id": "f46a9ea0-800d-4666-9e37-e8a49b70ddaf",
   "metadata": {},
   "outputs": [],
   "source": [
    "from pathlib import Path"
   ]
  },
  {
   "cell_type": "code",
   "execution_count": 2,
   "id": "8c333177-11b2-4e37-bb25-a08ecaab7461",
   "metadata": {},
   "outputs": [],
   "source": [
    "path = Path('day-2')\n",
    "!mkdir -p {path}"
   ]
  },
  {
   "cell_type": "code",
   "execution_count": 13,
   "id": "7e65eb96-c68e-4c84-a8a9-0560dbee5fb0",
   "metadata": {},
   "outputs": [
    {
     "data": {
      "text/plain": [
       "11"
      ]
     },
     "execution_count": 13,
     "metadata": {},
     "output_type": "execute_result"
    }
   ],
   "source": [
    "open(path/\"sample.txt\", 'w').write(\"\"\"A Y\n",
    "B X\n",
    "C Z\"\"\")"
   ]
  },
  {
   "cell_type": "code",
   "execution_count": 129,
   "id": "99389a89-8f71-489c-b0a1-9115afc55615",
   "metadata": {},
   "outputs": [],
   "source": [
    "f = open(path/'input.txt')"
   ]
  },
  {
   "cell_type": "code",
   "execution_count": 130,
   "id": "0feb6d66-197e-4794-ace9-fa284053e8c5",
   "metadata": {},
   "outputs": [
    {
     "data": {
      "text/plain": [
       "'A Z\\nC Z\\nA '"
      ]
     },
     "execution_count": 130,
     "metadata": {},
     "output_type": "execute_result"
    }
   ],
   "source": [
    "full = f.read()\n",
    "full[:10]"
   ]
  },
  {
   "cell_type": "code",
   "execution_count": 131,
   "id": "12415706-803f-47e8-afd0-ec5a42ce1a3e",
   "metadata": {},
   "outputs": [
    {
     "data": {
      "text/plain": [
       "['A Z', 'C Z', 'A X', 'B Z', 'C X']"
      ]
     },
     "execution_count": 131,
     "metadata": {},
     "output_type": "execute_result"
    }
   ],
   "source": [
    "full.split('\\n')[:5]"
   ]
  },
  {
   "cell_type": "code",
   "execution_count": 132,
   "id": "95e664c5-8cd0-497b-8cc3-d76e5752af58",
   "metadata": {},
   "outputs": [],
   "source": [
    "import pandas as pd"
   ]
  },
  {
   "cell_type": "code",
   "execution_count": 133,
   "id": "df8a1dff-ecaf-4706-817b-e8d51a1c4faa",
   "metadata": {},
   "outputs": [
    {
     "data": {
      "text/plain": [
       "[(0, 'A', 'Z'), (1, 'C', 'Z'), (2, 'A', 'X'), (3, 'B', 'Z'), (4, 'C', 'X')]"
      ]
     },
     "execution_count": 133,
     "metadata": {},
     "output_type": "execute_result"
    }
   ],
   "source": [
    "data = []\n",
    "for i, strategy in enumerate(full.split('\\n')):\n",
    "    opponent, you = tuple(strategy.split())\n",
    "    data.append((i, opponent, you))\n",
    "data[:5]"
   ]
  },
  {
   "cell_type": "code",
   "execution_count": 134,
   "id": "4bf19b25-80ee-4a55-a7e0-09cb12ae2e54",
   "metadata": {},
   "outputs": [
    {
     "data": {
      "text/html": [
       "<div>\n",
       "<style scoped>\n",
       "    .dataframe tbody tr th:only-of-type {\n",
       "        vertical-align: middle;\n",
       "    }\n",
       "\n",
       "    .dataframe tbody tr th {\n",
       "        vertical-align: top;\n",
       "    }\n",
       "\n",
       "    .dataframe thead th {\n",
       "        text-align: right;\n",
       "    }\n",
       "</style>\n",
       "<table border=\"1\" class=\"dataframe\">\n",
       "  <thead>\n",
       "    <tr style=\"text-align: right;\">\n",
       "      <th></th>\n",
       "      <th>round</th>\n",
       "      <th>opponent</th>\n",
       "      <th>you</th>\n",
       "    </tr>\n",
       "  </thead>\n",
       "  <tbody>\n",
       "    <tr>\n",
       "      <th>0</th>\n",
       "      <td>0</td>\n",
       "      <td>A</td>\n",
       "      <td>Z</td>\n",
       "    </tr>\n",
       "    <tr>\n",
       "      <th>1</th>\n",
       "      <td>1</td>\n",
       "      <td>C</td>\n",
       "      <td>Z</td>\n",
       "    </tr>\n",
       "    <tr>\n",
       "      <th>2</th>\n",
       "      <td>2</td>\n",
       "      <td>A</td>\n",
       "      <td>X</td>\n",
       "    </tr>\n",
       "    <tr>\n",
       "      <th>3</th>\n",
       "      <td>3</td>\n",
       "      <td>B</td>\n",
       "      <td>Z</td>\n",
       "    </tr>\n",
       "    <tr>\n",
       "      <th>4</th>\n",
       "      <td>4</td>\n",
       "      <td>C</td>\n",
       "      <td>X</td>\n",
       "    </tr>\n",
       "  </tbody>\n",
       "</table>\n",
       "</div>"
      ],
      "text/plain": [
       "   round opponent you\n",
       "0      0        A   Z\n",
       "1      1        C   Z\n",
       "2      2        A   X\n",
       "3      3        B   Z\n",
       "4      4        C   X"
      ]
     },
     "execution_count": 134,
     "metadata": {},
     "output_type": "execute_result"
    }
   ],
   "source": [
    "df = pd.DataFrame(data, columns=['round', 'opponent', 'you'])\n",
    "df.head()"
   ]
  },
  {
   "cell_type": "code",
   "execution_count": 135,
   "id": "8f66cbb8-d790-4495-a7a3-b56379f24635",
   "metadata": {},
   "outputs": [
    {
     "data": {
      "text/html": [
       "<div>\n",
       "<style scoped>\n",
       "    .dataframe tbody tr th:only-of-type {\n",
       "        vertical-align: middle;\n",
       "    }\n",
       "\n",
       "    .dataframe tbody tr th {\n",
       "        vertical-align: top;\n",
       "    }\n",
       "\n",
       "    .dataframe thead th {\n",
       "        text-align: right;\n",
       "    }\n",
       "</style>\n",
       "<table border=\"1\" class=\"dataframe\">\n",
       "  <thead>\n",
       "    <tr style=\"text-align: right;\">\n",
       "      <th></th>\n",
       "      <th>round</th>\n",
       "      <th>opponent</th>\n",
       "      <th>you</th>\n",
       "    </tr>\n",
       "  </thead>\n",
       "  <tbody>\n",
       "    <tr>\n",
       "      <th>0</th>\n",
       "      <td>0</td>\n",
       "      <td>1</td>\n",
       "      <td>3</td>\n",
       "    </tr>\n",
       "    <tr>\n",
       "      <th>1</th>\n",
       "      <td>1</td>\n",
       "      <td>3</td>\n",
       "      <td>3</td>\n",
       "    </tr>\n",
       "    <tr>\n",
       "      <th>2</th>\n",
       "      <td>2</td>\n",
       "      <td>1</td>\n",
       "      <td>1</td>\n",
       "    </tr>\n",
       "    <tr>\n",
       "      <th>3</th>\n",
       "      <td>3</td>\n",
       "      <td>2</td>\n",
       "      <td>3</td>\n",
       "    </tr>\n",
       "    <tr>\n",
       "      <th>4</th>\n",
       "      <td>4</td>\n",
       "      <td>3</td>\n",
       "      <td>1</td>\n",
       "    </tr>\n",
       "    <tr>\n",
       "      <th>...</th>\n",
       "      <td>...</td>\n",
       "      <td>...</td>\n",
       "      <td>...</td>\n",
       "    </tr>\n",
       "    <tr>\n",
       "      <th>2495</th>\n",
       "      <td>2495</td>\n",
       "      <td>1</td>\n",
       "      <td>1</td>\n",
       "    </tr>\n",
       "    <tr>\n",
       "      <th>2496</th>\n",
       "      <td>2496</td>\n",
       "      <td>2</td>\n",
       "      <td>3</td>\n",
       "    </tr>\n",
       "    <tr>\n",
       "      <th>2497</th>\n",
       "      <td>2497</td>\n",
       "      <td>3</td>\n",
       "      <td>3</td>\n",
       "    </tr>\n",
       "    <tr>\n",
       "      <th>2498</th>\n",
       "      <td>2498</td>\n",
       "      <td>3</td>\n",
       "      <td>1</td>\n",
       "    </tr>\n",
       "    <tr>\n",
       "      <th>2499</th>\n",
       "      <td>2499</td>\n",
       "      <td>1</td>\n",
       "      <td>2</td>\n",
       "    </tr>\n",
       "  </tbody>\n",
       "</table>\n",
       "<p>2500 rows × 3 columns</p>\n",
       "</div>"
      ],
      "text/plain": [
       "      round  opponent  you\n",
       "0         0         1    3\n",
       "1         1         3    3\n",
       "2         2         1    1\n",
       "3         3         2    3\n",
       "4         4         3    1\n",
       "...     ...       ...  ...\n",
       "2495   2495         1    1\n",
       "2496   2496         2    3\n",
       "2497   2497         3    3\n",
       "2498   2498         3    1\n",
       "2499   2499         1    2\n",
       "\n",
       "[2500 rows x 3 columns]"
      ]
     },
     "execution_count": 135,
     "metadata": {},
     "output_type": "execute_result"
    }
   ],
   "source": [
    "ndf = df.replace(['A','X'], 1).replace(['B', 'Y'], 2).replace(['C', 'Z'], 3)\n",
    "ndf"
   ]
  },
  {
   "cell_type": "code",
   "execution_count": 136,
   "id": "e0d84502-6ab4-458a-8188-c9bbcb32467b",
   "metadata": {},
   "outputs": [],
   "source": [
    "def beats(play):\n",
    "    ret = play + 1\n",
    "    if ret >= 4: ret -= 3\n",
    "    return ret\n",
    "\n",
    "def score(row):\n",
    "    #print(row)\n",
    "    # draw\n",
    "    if row.opponent == row.you:\n",
    "        return 3 + row.you\n",
    "    # win \n",
    "    if row.you == beats(row.opponent):\n",
    "        return 6 + row.you\n",
    "    # lose\n",
    "    if row.opponent == beats(row.you):\n",
    "        return 0 + row.you"
   ]
  },
  {
   "cell_type": "code",
   "execution_count": 137,
   "id": "5e358025-7051-4c86-9306-3215d87c8085",
   "metadata": {},
   "outputs": [],
   "source": [
    "ndf['score'] = ndf.apply(score, axis=1)"
   ]
  },
  {
   "cell_type": "code",
   "execution_count": 138,
   "id": "8cf7fcfc-65cf-46d5-87c7-d2f4b11c7bf5",
   "metadata": {},
   "outputs": [
    {
     "data": {
      "text/html": [
       "<div>\n",
       "<style scoped>\n",
       "    .dataframe tbody tr th:only-of-type {\n",
       "        vertical-align: middle;\n",
       "    }\n",
       "\n",
       "    .dataframe tbody tr th {\n",
       "        vertical-align: top;\n",
       "    }\n",
       "\n",
       "    .dataframe thead th {\n",
       "        text-align: right;\n",
       "    }\n",
       "</style>\n",
       "<table border=\"1\" class=\"dataframe\">\n",
       "  <thead>\n",
       "    <tr style=\"text-align: right;\">\n",
       "      <th></th>\n",
       "      <th>round</th>\n",
       "      <th>opponent</th>\n",
       "      <th>you</th>\n",
       "      <th>score</th>\n",
       "    </tr>\n",
       "  </thead>\n",
       "  <tbody>\n",
       "    <tr>\n",
       "      <th>0</th>\n",
       "      <td>0</td>\n",
       "      <td>1</td>\n",
       "      <td>3</td>\n",
       "      <td>3</td>\n",
       "    </tr>\n",
       "    <tr>\n",
       "      <th>1</th>\n",
       "      <td>1</td>\n",
       "      <td>3</td>\n",
       "      <td>3</td>\n",
       "      <td>6</td>\n",
       "    </tr>\n",
       "    <tr>\n",
       "      <th>2</th>\n",
       "      <td>2</td>\n",
       "      <td>1</td>\n",
       "      <td>1</td>\n",
       "      <td>4</td>\n",
       "    </tr>\n",
       "    <tr>\n",
       "      <th>3</th>\n",
       "      <td>3</td>\n",
       "      <td>2</td>\n",
       "      <td>3</td>\n",
       "      <td>9</td>\n",
       "    </tr>\n",
       "    <tr>\n",
       "      <th>4</th>\n",
       "      <td>4</td>\n",
       "      <td>3</td>\n",
       "      <td>1</td>\n",
       "      <td>7</td>\n",
       "    </tr>\n",
       "    <tr>\n",
       "      <th>...</th>\n",
       "      <td>...</td>\n",
       "      <td>...</td>\n",
       "      <td>...</td>\n",
       "      <td>...</td>\n",
       "    </tr>\n",
       "    <tr>\n",
       "      <th>2495</th>\n",
       "      <td>2495</td>\n",
       "      <td>1</td>\n",
       "      <td>1</td>\n",
       "      <td>4</td>\n",
       "    </tr>\n",
       "    <tr>\n",
       "      <th>2496</th>\n",
       "      <td>2496</td>\n",
       "      <td>2</td>\n",
       "      <td>3</td>\n",
       "      <td>9</td>\n",
       "    </tr>\n",
       "    <tr>\n",
       "      <th>2497</th>\n",
       "      <td>2497</td>\n",
       "      <td>3</td>\n",
       "      <td>3</td>\n",
       "      <td>6</td>\n",
       "    </tr>\n",
       "    <tr>\n",
       "      <th>2498</th>\n",
       "      <td>2498</td>\n",
       "      <td>3</td>\n",
       "      <td>1</td>\n",
       "      <td>7</td>\n",
       "    </tr>\n",
       "    <tr>\n",
       "      <th>2499</th>\n",
       "      <td>2499</td>\n",
       "      <td>1</td>\n",
       "      <td>2</td>\n",
       "      <td>8</td>\n",
       "    </tr>\n",
       "  </tbody>\n",
       "</table>\n",
       "<p>2500 rows × 4 columns</p>\n",
       "</div>"
      ],
      "text/plain": [
       "      round  opponent  you  score\n",
       "0         0         1    3      3\n",
       "1         1         3    3      6\n",
       "2         2         1    1      4\n",
       "3         3         2    3      9\n",
       "4         4         3    1      7\n",
       "...     ...       ...  ...    ...\n",
       "2495   2495         1    1      4\n",
       "2496   2496         2    3      9\n",
       "2497   2497         3    3      6\n",
       "2498   2498         3    1      7\n",
       "2499   2499         1    2      8\n",
       "\n",
       "[2500 rows x 4 columns]"
      ]
     },
     "execution_count": 138,
     "metadata": {},
     "output_type": "execute_result"
    }
   ],
   "source": [
    "ndf"
   ]
  },
  {
   "cell_type": "code",
   "execution_count": 139,
   "id": "d63efd16-1259-460b-b839-de980437e5a9",
   "metadata": {},
   "outputs": [
    {
     "data": {
      "text/plain": [
       "13924"
      ]
     },
     "execution_count": 139,
     "metadata": {},
     "output_type": "execute_result"
    }
   ],
   "source": [
    "ndf.score.sum()"
   ]
  },
  {
   "cell_type": "code",
   "execution_count": 140,
   "id": "a92f6478-4646-41f4-9485-c30b6b980db7",
   "metadata": {},
   "outputs": [
    {
     "data": {
      "text/html": [
       "<div>\n",
       "<style scoped>\n",
       "    .dataframe tbody tr th:only-of-type {\n",
       "        vertical-align: middle;\n",
       "    }\n",
       "\n",
       "    .dataframe tbody tr th {\n",
       "        vertical-align: top;\n",
       "    }\n",
       "\n",
       "    .dataframe thead th {\n",
       "        text-align: right;\n",
       "    }\n",
       "</style>\n",
       "<table border=\"1\" class=\"dataframe\">\n",
       "  <thead>\n",
       "    <tr style=\"text-align: right;\">\n",
       "      <th></th>\n",
       "      <th>round</th>\n",
       "      <th>opponent</th>\n",
       "      <th>result</th>\n",
       "    </tr>\n",
       "  </thead>\n",
       "  <tbody>\n",
       "    <tr>\n",
       "      <th>0</th>\n",
       "      <td>0</td>\n",
       "      <td>A</td>\n",
       "      <td>Z</td>\n",
       "    </tr>\n",
       "    <tr>\n",
       "      <th>1</th>\n",
       "      <td>1</td>\n",
       "      <td>C</td>\n",
       "      <td>Z</td>\n",
       "    </tr>\n",
       "    <tr>\n",
       "      <th>2</th>\n",
       "      <td>2</td>\n",
       "      <td>A</td>\n",
       "      <td>X</td>\n",
       "    </tr>\n",
       "    <tr>\n",
       "      <th>3</th>\n",
       "      <td>3</td>\n",
       "      <td>B</td>\n",
       "      <td>Z</td>\n",
       "    </tr>\n",
       "    <tr>\n",
       "      <th>4</th>\n",
       "      <td>4</td>\n",
       "      <td>C</td>\n",
       "      <td>X</td>\n",
       "    </tr>\n",
       "    <tr>\n",
       "      <th>...</th>\n",
       "      <td>...</td>\n",
       "      <td>...</td>\n",
       "      <td>...</td>\n",
       "    </tr>\n",
       "    <tr>\n",
       "      <th>2495</th>\n",
       "      <td>2495</td>\n",
       "      <td>A</td>\n",
       "      <td>X</td>\n",
       "    </tr>\n",
       "    <tr>\n",
       "      <th>2496</th>\n",
       "      <td>2496</td>\n",
       "      <td>B</td>\n",
       "      <td>Z</td>\n",
       "    </tr>\n",
       "    <tr>\n",
       "      <th>2497</th>\n",
       "      <td>2497</td>\n",
       "      <td>C</td>\n",
       "      <td>Z</td>\n",
       "    </tr>\n",
       "    <tr>\n",
       "      <th>2498</th>\n",
       "      <td>2498</td>\n",
       "      <td>C</td>\n",
       "      <td>X</td>\n",
       "    </tr>\n",
       "    <tr>\n",
       "      <th>2499</th>\n",
       "      <td>2499</td>\n",
       "      <td>A</td>\n",
       "      <td>Y</td>\n",
       "    </tr>\n",
       "  </tbody>\n",
       "</table>\n",
       "<p>2500 rows × 3 columns</p>\n",
       "</div>"
      ],
      "text/plain": [
       "      round opponent result\n",
       "0         0        A      Z\n",
       "1         1        C      Z\n",
       "2         2        A      X\n",
       "3         3        B      Z\n",
       "4         4        C      X\n",
       "...     ...      ...    ...\n",
       "2495   2495        A      X\n",
       "2496   2496        B      Z\n",
       "2497   2497        C      Z\n",
       "2498   2498        C      X\n",
       "2499   2499        A      Y\n",
       "\n",
       "[2500 rows x 3 columns]"
      ]
     },
     "execution_count": 140,
     "metadata": {},
     "output_type": "execute_result"
    }
   ],
   "source": [
    "tdf = df.rename(columns={'you': 'result'})\n",
    "tdf"
   ]
  },
  {
   "cell_type": "code",
   "execution_count": 141,
   "id": "b6793026-4c7e-49bf-884d-cdc410b01778",
   "metadata": {},
   "outputs": [],
   "source": [
    "tdf = tdf.replace(['A'], 1).replace(['B'], 2).replace(['C'], 3).replace(['X'], 0).replace(['Y'], 3).replace(['Z'], 6)"
   ]
  },
  {
   "cell_type": "code",
   "execution_count": 142,
   "id": "6c558c65-f27d-423b-9f44-25d9b155522a",
   "metadata": {},
   "outputs": [],
   "source": [
    "def beaten(play):\n",
    "    ret = play - 1\n",
    "    if ret == 0: ret += 3\n",
    "    return ret"
   ]
  },
  {
   "cell_type": "code",
   "execution_count": 143,
   "id": "c3a0e7a0-bddb-42a4-8208-c5c6b5ca1108",
   "metadata": {},
   "outputs": [],
   "source": [
    "def score2(row):\n",
    "    #print(row)\n",
    "    # lose\n",
    "    if row.result == 0:\n",
    "        return beaten(row.opponent)\n",
    "    # win \n",
    "    if row.result == 6:\n",
    "        return 6 + beats(row.opponent)\n",
    "    # draw\n",
    "    if row.result == 3:\n",
    "        return 3 + row.opponent"
   ]
  },
  {
   "cell_type": "code",
   "execution_count": 144,
   "id": "17ac847d-f69f-4202-b478-710547a2d0cb",
   "metadata": {},
   "outputs": [
    {
     "data": {
      "text/html": [
       "<div>\n",
       "<style scoped>\n",
       "    .dataframe tbody tr th:only-of-type {\n",
       "        vertical-align: middle;\n",
       "    }\n",
       "\n",
       "    .dataframe tbody tr th {\n",
       "        vertical-align: top;\n",
       "    }\n",
       "\n",
       "    .dataframe thead th {\n",
       "        text-align: right;\n",
       "    }\n",
       "</style>\n",
       "<table border=\"1\" class=\"dataframe\">\n",
       "  <thead>\n",
       "    <tr style=\"text-align: right;\">\n",
       "      <th></th>\n",
       "      <th>round</th>\n",
       "      <th>opponent</th>\n",
       "      <th>result</th>\n",
       "      <th>score2</th>\n",
       "    </tr>\n",
       "  </thead>\n",
       "  <tbody>\n",
       "    <tr>\n",
       "      <th>0</th>\n",
       "      <td>0</td>\n",
       "      <td>1</td>\n",
       "      <td>6</td>\n",
       "      <td>8</td>\n",
       "    </tr>\n",
       "    <tr>\n",
       "      <th>1</th>\n",
       "      <td>1</td>\n",
       "      <td>3</td>\n",
       "      <td>6</td>\n",
       "      <td>7</td>\n",
       "    </tr>\n",
       "    <tr>\n",
       "      <th>2</th>\n",
       "      <td>2</td>\n",
       "      <td>1</td>\n",
       "      <td>0</td>\n",
       "      <td>3</td>\n",
       "    </tr>\n",
       "    <tr>\n",
       "      <th>3</th>\n",
       "      <td>3</td>\n",
       "      <td>2</td>\n",
       "      <td>6</td>\n",
       "      <td>9</td>\n",
       "    </tr>\n",
       "    <tr>\n",
       "      <th>4</th>\n",
       "      <td>4</td>\n",
       "      <td>3</td>\n",
       "      <td>0</td>\n",
       "      <td>2</td>\n",
       "    </tr>\n",
       "    <tr>\n",
       "      <th>...</th>\n",
       "      <td>...</td>\n",
       "      <td>...</td>\n",
       "      <td>...</td>\n",
       "      <td>...</td>\n",
       "    </tr>\n",
       "    <tr>\n",
       "      <th>2495</th>\n",
       "      <td>2495</td>\n",
       "      <td>1</td>\n",
       "      <td>0</td>\n",
       "      <td>3</td>\n",
       "    </tr>\n",
       "    <tr>\n",
       "      <th>2496</th>\n",
       "      <td>2496</td>\n",
       "      <td>2</td>\n",
       "      <td>6</td>\n",
       "      <td>9</td>\n",
       "    </tr>\n",
       "    <tr>\n",
       "      <th>2497</th>\n",
       "      <td>2497</td>\n",
       "      <td>3</td>\n",
       "      <td>6</td>\n",
       "      <td>7</td>\n",
       "    </tr>\n",
       "    <tr>\n",
       "      <th>2498</th>\n",
       "      <td>2498</td>\n",
       "      <td>3</td>\n",
       "      <td>0</td>\n",
       "      <td>2</td>\n",
       "    </tr>\n",
       "    <tr>\n",
       "      <th>2499</th>\n",
       "      <td>2499</td>\n",
       "      <td>1</td>\n",
       "      <td>3</td>\n",
       "      <td>4</td>\n",
       "    </tr>\n",
       "  </tbody>\n",
       "</table>\n",
       "<p>2500 rows × 4 columns</p>\n",
       "</div>"
      ],
      "text/plain": [
       "      round  opponent  result  score2\n",
       "0         0         1       6       8\n",
       "1         1         3       6       7\n",
       "2         2         1       0       3\n",
       "3         3         2       6       9\n",
       "4         4         3       0       2\n",
       "...     ...       ...     ...     ...\n",
       "2495   2495         1       0       3\n",
       "2496   2496         2       6       9\n",
       "2497   2497         3       6       7\n",
       "2498   2498         3       0       2\n",
       "2499   2499         1       3       4\n",
       "\n",
       "[2500 rows x 4 columns]"
      ]
     },
     "execution_count": 144,
     "metadata": {},
     "output_type": "execute_result"
    }
   ],
   "source": [
    "tdf['score2'] = tdf.apply(score2, axis=1)\n",
    "tdf"
   ]
  },
  {
   "cell_type": "code",
   "execution_count": 145,
   "id": "04733768-7323-4a84-b4ec-8a76f662a9e9",
   "metadata": {},
   "outputs": [
    {
     "data": {
      "text/plain": [
       "13448"
      ]
     },
     "execution_count": 145,
     "metadata": {},
     "output_type": "execute_result"
    }
   ],
   "source": [
    "tdf.score2.sum()"
   ]
  },
  {
   "cell_type": "code",
   "execution_count": null,
   "id": "825894f9-77bc-4984-bfb6-39519569e922",
   "metadata": {},
   "outputs": [],
   "source": []
  }
 ],
 "metadata": {
  "kernelspec": {
   "display_name": "Python 3 (ipykernel)",
   "language": "python",
   "name": "python3"
  },
  "language_info": {
   "codemirror_mode": {
    "name": "ipython",
    "version": 3
   },
   "file_extension": ".py",
   "mimetype": "text/x-python",
   "name": "python",
   "nbconvert_exporter": "python",
   "pygments_lexer": "ipython3",
   "version": "3.9.13"
  }
 },
 "nbformat": 4,
 "nbformat_minor": 5
}
